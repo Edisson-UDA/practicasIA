{
 "cells": [
  {
   "cell_type": "markdown",
   "id": "51af63e9",
   "metadata": {},
   "source": [
    "# LAB 4"
   ]
  },
  {
   "cell_type": "markdown",
   "id": "8c9cf584",
   "metadata": {},
   "source": [
    "**Ingeniería Electrónica**\n",
    "\n",
    "**Inteligencia Artificial**\n",
    "\n",
    "**12/05/2022**"
   ]
  },
  {
   "cell_type": "markdown",
   "id": "d89cacbb",
   "metadata": {},
   "source": [
    "# CORRELACION"
   ]
  },
  {
   "cell_type": "code",
   "execution_count": null,
   "id": "4b805356",
   "metadata": {},
   "outputs": [],
   "source": []
  }
 ],
 "metadata": {
  "kernelspec": {
   "display_name": "Python 3 (ipykernel)",
   "language": "python",
   "name": "python3"
  },
  "language_info": {
   "codemirror_mode": {
    "name": "ipython",
    "version": 3
   },
   "file_extension": ".py",
   "mimetype": "text/x-python",
   "name": "python",
   "nbconvert_exporter": "python",
   "pygments_lexer": "ipython3",
   "version": "3.9.7"
  }
 },
 "nbformat": 4,
 "nbformat_minor": 5
}
